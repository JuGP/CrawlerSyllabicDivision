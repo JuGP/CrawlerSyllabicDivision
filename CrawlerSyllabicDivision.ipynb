{
  "nbformat": 4,
  "nbformat_minor": 0,
  "metadata": {
    "colab": {
      "name": "CrawlerSyllabicDivision.ipynb",
      "provenance": [],
      "collapsed_sections": [],
      "toc_visible": true,
      "authorship_tag": "ABX9TyP+Bh0hkkV4vRrJ+29gnZEc",
      "include_colab_link": true
    },
    "kernelspec": {
      "name": "python3",
      "display_name": "Python 3"
    }
  },
  "cells": [
    {
      "cell_type": "markdown",
      "metadata": {
        "id": "view-in-github",
        "colab_type": "text"
      },
      "source": [
        "<a href=\"https://colab.research.google.com/github/JuGP/CrawlerSyllabicDivision/blob/master/CrawlerSyllabicDivision.ipynb\" target=\"_parent\"><img src=\"https://colab.research.google.com/assets/colab-badge.svg\" alt=\"Open In Colab\"/></a>"
      ]
    },
    {
      "cell_type": "markdown",
      "metadata": {
        "id": "ejz-JYVQ4YoI",
        "colab_type": "text"
      },
      "source": [
        "#Packages"
      ]
    },
    {
      "cell_type": "code",
      "metadata": {
        "id": "pQmChCyL4V86",
        "colab_type": "code",
        "colab": {}
      },
      "source": [
        "import re\n",
        "import time\n",
        "import requests\n",
        "import pandas as pd\n",
        "from bs4 import BeautifulSoup"
      ],
      "execution_count": null,
      "outputs": []
    },
    {
      "cell_type": "markdown",
      "metadata": {
        "id": "JExR7z6T4nlL",
        "colab_type": "text"
      },
      "source": [
        "#Constants"
      ]
    },
    {
      "cell_type": "code",
      "metadata": {
        "id": "piAK8gV_4qds",
        "colab_type": "code",
        "colab": {}
      },
      "source": [
        "LETTERS = \"abcdefghijklmnopqrstuvwxyz\"\n",
        "URL = \"http://www.portaldalinguaportuguesa.org/index.php?action=syllables&act=list&letter={}&start={}\"\n",
        "\n",
        "DATASET_FILE = \"letter_{}.csv\"\n",
        "ALL_DATASET_FILE = \"letters.csv\"\n",
        "\n",
        "WORD = \"Word\"\n",
        "CLASS = \"Class\"\n",
        "PRONUNCIATION = \"Pronunciation\""
      ],
      "execution_count": null,
      "outputs": []
    },
    {
      "cell_type": "markdown",
      "metadata": {
        "id": "SrRqXEk74b0c",
        "colab_type": "text"
      },
      "source": [
        "#Crawler"
      ]
    },
    {
      "cell_type": "code",
      "metadata": {
        "id": "gVBwPSgQ4cAL",
        "colab_type": "code",
        "colab": {}
      },
      "source": [
        "def get_page_elements(page):\n",
        "    content = BeautifulSoup(page.content, \"html5lib\")\n",
        "    table = content.find('table', attrs={\"id\":\"rollovertable\"})\n",
        "    elements = table.findAll('tr', attrs={\"class\":\"even\"})\n",
        "    return elements\n",
        "\n",
        "def extract_element_information(element):\n",
        "    word = re.search(\"(.*) \\((.*)\\)\", element.find('td', attrs={\"title\":\"Palavra\"}).text)\n",
        "    pronunciation = element.find('td', attrs={\"title\":\"pron�ncia\"}).text.strip()\n",
        "    serie = pd.Series([word.group(1), word.group(2), pronunciation], index=[WORD, CLASS, PRONUNCIATION], name=letter)\n",
        "    return serie\n",
        "\n",
        "for letter in LETTERS:\n",
        "    df = pd.DataFrame(columns=[WORD, CLASS, PRONUNCIATION])\n",
        "    start = 0\n",
        "    while True:\n",
        "        print(\"letter: {} start: {}\".format(letter,start))\n",
        "        page = requests.get(URL.format(letter,start), timeout=5)\n",
        "        elements = get_page_elements(page)\n",
        "\n",
        "        if len(elements) <= 1:\n",
        "            break\n",
        "        else:\n",
        "            for element in elements:\n",
        "                serie = extract_element_information(element)\n",
        "                df = df.append(serie)\n",
        "            start += 100\n",
        "        time.sleep(3)\n",
        "    df.to_csv(DATASET_FILE.format(letter))"
      ],
      "execution_count": null,
      "outputs": []
    },
    {
      "cell_type": "code",
      "metadata": {
        "id": "YXftFFM2osxv",
        "colab_type": "code",
        "colab": {}
      },
      "source": [
        "files = [DATASET_FILE.format(letter) for letter in LETTERS]\n",
        "df = pd.concat([pd.read_csv(file, index_col=0) for file in files])\n",
        "df.to_csv(ALL_DATASET_FILE)"
      ],
      "execution_count": null,
      "outputs": []
    }
  ]
}